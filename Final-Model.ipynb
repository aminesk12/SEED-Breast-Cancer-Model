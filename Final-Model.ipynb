{
 "cells": [
  {
   "cell_type": "code",
   "execution_count": 13,
   "metadata": {},
   "outputs": [],
   "source": [
    "# import libraries\n",
    "import pandas as pd\n",
    "from sklearn.model_selection import train_test_split\n",
    "from sklearn.preprocessing import StandardScaler, LabelEncoder\n",
    "from sklearn.metrics import confusion_matrix, classification_report\n",
    "import seaborn as sns\n",
    "import matplotlib.pyplot as plt\n",
    "from sklearn.linear_model import LogisticRegression\n",
    "from sklearn.tree import DecisionTreeClassifier\n",
    "from sklearn.ensemble import RandomForestClassifier\n",
    "from sklearn.metrics import accuracy_score\n",
    "import joblib\n",
    "import os\n",
    "\n",
    "from sklearn.svm import SVC\n"
   ]
  },
  {
   "cell_type": "code",
   "execution_count": 14,
   "metadata": {},
   "outputs": [
    {
     "data": {
      "text/html": [
       "<div>\n",
       "<style scoped>\n",
       "    .dataframe tbody tr th:only-of-type {\n",
       "        vertical-align: middle;\n",
       "    }\n",
       "\n",
       "    .dataframe tbody tr th {\n",
       "        vertical-align: top;\n",
       "    }\n",
       "\n",
       "    .dataframe thead th {\n",
       "        text-align: right;\n",
       "    }\n",
       "</style>\n",
       "<table border=\"1\" class=\"dataframe\">\n",
       "  <thead>\n",
       "    <tr style=\"text-align: right;\">\n",
       "      <th></th>\n",
       "      <th>Age</th>\n",
       "      <th>Race</th>\n",
       "      <th>Marital Status</th>\n",
       "      <th>Unnamed: 3</th>\n",
       "      <th>T Stage</th>\n",
       "      <th>N Stage</th>\n",
       "      <th>6th Stage</th>\n",
       "      <th>Grade</th>\n",
       "      <th>A Stage</th>\n",
       "      <th>Tumor Size</th>\n",
       "      <th>Estrogen Status</th>\n",
       "      <th>Progesterone Status</th>\n",
       "      <th>Regional Node Examined</th>\n",
       "      <th>Reginol Node Positive</th>\n",
       "      <th>Survival Months</th>\n",
       "      <th>Status</th>\n",
       "    </tr>\n",
       "  </thead>\n",
       "  <tbody>\n",
       "    <tr>\n",
       "      <th>0</th>\n",
       "      <td>43</td>\n",
       "      <td>Other (American Indian/AK Native, Asian/Pacifi...</td>\n",
       "      <td>Married (including common law)</td>\n",
       "      <td>NaN</td>\n",
       "      <td>T2</td>\n",
       "      <td>N3</td>\n",
       "      <td>IIIC</td>\n",
       "      <td>Moderately differentiated; Grade II</td>\n",
       "      <td>Regional</td>\n",
       "      <td>40</td>\n",
       "      <td>Positive</td>\n",
       "      <td>Positive</td>\n",
       "      <td>19</td>\n",
       "      <td>11</td>\n",
       "      <td>1</td>\n",
       "      <td>Alive</td>\n",
       "    </tr>\n",
       "    <tr>\n",
       "      <th>1</th>\n",
       "      <td>47</td>\n",
       "      <td>Other (American Indian/AK Native, Asian/Pacifi...</td>\n",
       "      <td>Married (including common law)</td>\n",
       "      <td>NaN</td>\n",
       "      <td>T2</td>\n",
       "      <td>N2</td>\n",
       "      <td>IIIA</td>\n",
       "      <td>Moderately differentiated; Grade II</td>\n",
       "      <td>Regional</td>\n",
       "      <td>45</td>\n",
       "      <td>Positive</td>\n",
       "      <td>Positive</td>\n",
       "      <td>25</td>\n",
       "      <td>9</td>\n",
       "      <td>2</td>\n",
       "      <td>Alive</td>\n",
       "    </tr>\n",
       "    <tr>\n",
       "      <th>2</th>\n",
       "      <td>67</td>\n",
       "      <td>White</td>\n",
       "      <td>Married (including common law)</td>\n",
       "      <td>NaN</td>\n",
       "      <td>T2</td>\n",
       "      <td>N1</td>\n",
       "      <td>IIB</td>\n",
       "      <td>Poorly differentiated; Grade III</td>\n",
       "      <td>Regional</td>\n",
       "      <td>25</td>\n",
       "      <td>Positive</td>\n",
       "      <td>Positive</td>\n",
       "      <td>4</td>\n",
       "      <td>1</td>\n",
       "      <td>2</td>\n",
       "      <td>Dead</td>\n",
       "    </tr>\n",
       "  </tbody>\n",
       "</table>\n",
       "</div>"
      ],
      "text/plain": [
       "  Age                                              Race   \\\n",
       "0  43  Other (American Indian/AK Native, Asian/Pacifi...   \n",
       "1  47  Other (American Indian/AK Native, Asian/Pacifi...   \n",
       "2  67                                              White   \n",
       "\n",
       "                   Marital Status Unnamed: 3 T Stage  N Stage 6th Stage  \\\n",
       "0  Married (including common law)        NaN       T2      N3      IIIC   \n",
       "1  Married (including common law)        NaN       T2      N2      IIIA   \n",
       "2  Married (including common law)        NaN       T2      N1       IIB   \n",
       "\n",
       "                                 Grade   A Stage Tumor Size Estrogen Status  \\\n",
       "0  Moderately differentiated; Grade II  Regional         40        Positive   \n",
       "1  Moderately differentiated; Grade II  Regional         45        Positive   \n",
       "2     Poorly differentiated; Grade III  Regional         25        Positive   \n",
       "\n",
       "  Progesterone Status Regional Node Examined Reginol Node Positive  \\\n",
       "0            Positive                     19                    11   \n",
       "1            Positive                     25                     9   \n",
       "2            Positive                      4                     1   \n",
       "\n",
       "  Survival Months Status  \n",
       "0               1  Alive  \n",
       "1               2  Alive  \n",
       "2               2   Dead  "
      ]
     },
     "execution_count": 14,
     "metadata": {},
     "output_type": "execute_result"
    }
   ],
   "source": [
    "# Reading and consultation\n",
    "\n",
    "df = pd.read_csv(r'./SEER Breast Cancer Dataset .csv', encoding='ascii')\n",
    "df.head(3)"
   ]
  },
  {
   "cell_type": "code",
   "execution_count": 15,
   "metadata": {},
   "outputs": [
    {
     "data": {
      "text/plain": [
       "Index(['Age', 'Race ', 'Marital Status', 'T Stage ', 'N Stage', '6th Stage',\n",
       "       'Grade', 'A Stage', 'Tumor Size', 'Estrogen Status',\n",
       "       'Progesterone Status', 'Regional Node Examined',\n",
       "       'Reginol Node Positive', 'Survival Months', 'Status'],\n",
       "      dtype='object')"
      ]
     },
     "execution_count": 15,
     "metadata": {},
     "output_type": "execute_result"
    }
   ],
   "source": [
    "# Drop unvalide column 'Unnamed'\n",
    "df = df.drop(columns=['Unnamed: 3'])\n",
    "df.columns\n"
   ]
  },
  {
   "cell_type": "code",
   "execution_count": 16,
   "metadata": {},
   "outputs": [
    {
     "name": "stdout",
     "output_type": "stream",
     "text": [
      "\n",
      "Nombre de caractéristiques (colonnes) : 15\n",
      "Nombre d'échantillons (lignes) : 7108\n"
     ]
    }
   ],
   "source": [
    "# Nombre de caractéristiques (colonnes) et d'échantillons (lignes)\n",
    "num_features = df.shape[1]\n",
    "num_samples = df.shape[0]\n",
    "print(\"\\nNombre de caractéristiques (colonnes) :\", num_features)\n",
    "print(\"Nombre d'échantillons (lignes) :\", num_samples)"
   ]
  },
  {
   "cell_type": "code",
   "execution_count": 17,
   "metadata": {},
   "outputs": [
    {
     "name": "stdout",
     "output_type": "stream",
     "text": [
      "\n",
      "Distribution des statuts :\n",
      "Status\n",
      "Alive     4472\n",
      "Dead      2634\n",
      "Status       1\n",
      "Name: count, dtype: int64\n"
     ]
    }
   ],
   "source": [
    "# Distribution des statuts (Alive vs Dead)\n",
    "status_distribution = df['Status'].value_counts()\n",
    "print(\"\\nDistribution des statuts :\")\n",
    "print(status_distribution)"
   ]
  },
  {
   "cell_type": "code",
   "execution_count": 18,
   "metadata": {},
   "outputs": [
    {
     "name": "stdout",
     "output_type": "stream",
     "text": [
      "Inputs :  \n",
      " Index(['Age', '6th Stage', 'Tumor Size', 'Grade', 'T Stage', 'N Stage',\n",
      "       'Regional Node Examined', 'Reginol Node Positive', 'Survival Months'],\n",
      "      dtype='object')\n",
      "Target :  \n",
      " 6339    1.0\n",
      "6963    0.0\n",
      "1555    0.0\n",
      "6421    1.0\n",
      "3190    1.0\n",
      "       ... \n",
      "3772    0.0\n",
      "5191    1.0\n",
      "5226    0.0\n",
      "5390    0.0\n",
      "860     1.0\n",
      "Name: Status_encoded, Length: 1421, dtype: float64\n",
      "0\n",
      "2\n",
      "0\n",
      "this is :  Index(['Age', '6th Stage', 'Tumor Size', 'Grade', 'T Stage', 'N Stage',\n",
      "       'Regional Node Examined', 'Reginol Node Positive', 'Survival Months'],\n",
      "      dtype='object')\n"
     ]
    }
   ],
   "source": [
    "# Spliting the Data into training Set qnd test set\n",
    "# Conserving data \n",
    "dfs = df\n",
    "# Nettoyage des noms des colonnes\n",
    "df.columns = df.columns.str.strip()\n",
    "\n",
    "# Get The target Status ( \"Dead or Alive\")\n",
    "df['Status_encoded'] = df['Status'].map({'Alive': 0, 'Dead': 1})\n",
    "Y = df['Status_encoded']\n",
    "\n",
    "# Choosing features/inputs\n",
    "dfs = dfs.drop(columns=['Status'])\n",
    "X = df[['Age', '6th Stage', 'Tumor Size', 'Grade', 'T Stage', 'N Stage','Regional Node Examined',\n",
    "        'Reginol Node Positive','Survival Months']]\n",
    "# Train_Set and Test_Set\n",
    "from sklearn.model_selection import train_test_split\n",
    "\n",
    "X_train, X_test, Y_train, Y_test = train_test_split(X, Y, test_size=0.8,random_state=42)\n",
    "\n",
    "print(\"Inputs :  \\n\", X_train.columns)\n",
    "print(\"Target :  \\n\", Y_train)\n",
    "print(Y_train.isnull().sum())\n",
    "print(Y_test.isnull().sum())\n",
    "\n",
    "# Supprimer les lignes correspondantes aux NaN dans Y_train\n",
    "X_train = X_train[~Y_train.isnull()]\n",
    "Y_train = Y_train.dropna()\n",
    "# Remplacer les NaN dans Y_train par la classe majoritaire\n",
    "Y_train = Y_train.fillna(Y_train.mode()[0])\n",
    "print(Y_train.isnull().sum())  # Devrait afficher 0\n",
    "print(\"this is : \",X_train.columns)  # Should show (num_samples, 9)\n",
    "\n"
   ]
  },
  {
   "cell_type": "code",
   "execution_count": 19,
   "metadata": {},
   "outputs": [],
   "source": [
    "\n",
    "# Fitting Models and getting the best one\n",
    "def train_and_evaluate_models(X_Train, X_Test, Y_Train, Y_Test):\n",
    "   \n",
    "\n",
    "    # Initialize models\n",
    "    models = {\n",
    "        'Logistic Regression': LogisticRegression(random_state=42, max_iter=1000),\n",
    "        'Decision Tree': DecisionTreeClassifier(random_state=42),\n",
    "        'Random Forest': RandomForestClassifier(random_state=42),\n",
    "        'SVM': SVC(random_state=42)\n",
    "    }\n",
    "\n",
    "    results = {}\n",
    "    for model_name, model in models.items():\n",
    "       \n",
    "        # Train the model\n",
    "        model.fit(X_Train, Y_Train)\n",
    "        \n",
    "        # Make predictions\n",
    "        y_pred = model.predict(X_Test)\n",
    "        \n",
    "        # Evaluate model\n",
    "        accuracy = accuracy_score(Y_Test, y_pred)\n",
    "        cm = confusion_matrix(Y_Test, y_pred)\n",
    "        cr = classification_report(Y_Test, y_pred)\n",
    "        results[model_name] = {\n",
    "            'model': model,\n",
    "            'accuracy': accuracy,\n",
    "            'confusion_matrix': cm,\n",
    "            'classification_report': cr\n",
    "        }\n",
    "\n",
    "        # Plot confusion matrix\n",
    "        plt.figure(figsize=(8, 6))\n",
    "        sns.heatmap(cm, annot=True, fmt='d', cmap='Blues')\n",
    "        plt.title(f'Confusion Matrix - {model_name}\\nAccuracy: {accuracy:.4f}')\n",
    "        plt.ylabel('True Label')\n",
    "        plt.xlabel('Predicted Label')\n",
    "        plt.show()\n",
    "\n",
    "        print(f\"\\nClassification Report for {model_name}:\")\n",
    "        print(cr)\n",
    "\n",
    "    return results\n",
    "\n",
    "\n",
    "\n",
    "# Function to find the best model\n",
    "def get_best_model(results):\n",
    "    best_accuracy = 0\n",
    "    best_model_name = None\n",
    "    \n",
    "    for name, result in results.items():\n",
    "        if result['accuracy'] > best_accuracy:\n",
    "            best_accuracy = result['accuracy']\n",
    "            best_model_name = name\n",
    "    \n",
    "    return best_model_name, best_accuracy\n"
   ]
  },
  {
   "cell_type": "code",
   "execution_count": 20,
   "metadata": {},
   "outputs": [],
   "source": [
    "def save_model_components(model,scaler,label_encoders, categorical_columns, best_model_name):\n",
    "    # Create a directory for saving if it doesn't exist\n",
    "    if not os.path.exists('model'):\n",
    "        os.makedirs('model')\n",
    "    \n",
    "    # Save the entire pipeline (preprocessor + model)\n",
    "    joblib.dump(model, 'model/best_model.pkl')\n",
    "\n",
    "    # Save categorical columns list\n",
    "    joblib.dump(categorical_columns, 'model/categorical_columns.pkl')\n",
    "    \n",
    "    joblib.dump(label_encoders, f\"model/label_encoders.pkl\")\n",
    "    joblib.dump(scaler, f\"model/scaler.pkl\")\n",
    "    joblib.dump(categorical_columns, f\"model/categorical_columns.pkl\")\n",
    "    # Save model name\n",
    "    with open('model/model_info.txt', 'w') as f:\n",
    "        f.write(f\"{best_model_name}\")\n",
    "    \n",
    "    print(f\"model metadata saved successfully. Best model: {best_model_name}\")\n"
   ]
  },
  {
   "cell_type": "code",
   "execution_count": 21,
   "metadata": {},
   "outputs": [],
   "source": [
    "def process(df):\n",
    "    # Define categorical columns\n",
    "    categorical_columns = ['6th Stage', 'T Stage', 'N Stage', 'Grade']\n",
    "    \n",
    "    # Create a copy of the dataframe\n",
    "    df_model = df.copy()\n",
    "\n",
    "    # Initialize and fit label encoders for categorical columns\n",
    "    label_encoders = {}\n",
    "    for col in categorical_columns:\n",
    "        le = LabelEncoder()\n",
    "        df_model[col] = le.fit_transform(df_model[col])\n",
    "        label_encoders[col] = le\n",
    "\n",
    "    # Encode the target variable ('Status') as binary (0 for Alive, 1 for Dead)\n",
    "    df_model['Status_encoded'] = df_model['Status'].map({'Alive': 0, 'Dead': 1})\n",
    "    y = df_model['Status_encoded']\n",
    "\n",
    "    # Define numeric and categorical input columns\n",
    "    numeric_columns = ['Age', 'Tumor Size', 'Regional Node Examined', 'Reginol Node Positive', 'Survival Months']\n",
    "    X = df_model[numeric_columns + categorical_columns]\n",
    "\n",
    "    # Split the dataset into training and test sets\n",
    "    X_train, X_test, y_train, y_test = train_test_split(X, y, test_size=0.2, random_state=42)\n",
    "\n",
    "    # Handle missing values in the target variable\n",
    "    X_train = X_train[~y_train.isnull()]\n",
    "    y_train = y_train.dropna()\n",
    "\n",
    "    # Replace NaN in y_train with the most frequent class (mode)\n",
    "    y_train = y_train.fillna(y_train.mode()[0])\n",
    "\n",
    "    # Save feature order for future use\n",
    "    joblib.dump(X.columns.tolist(), \"model/feature_order.pkl\")\n",
    "\n",
    "    # Save label encoders for future use\n",
    "    joblib.dump(label_encoders, \"model/label_encoders.pkl\")\n",
    "    print(\"Label encoders saved successfully to 'model/label_encoders.pkl'.\")\n",
    "\n",
    "    # Normalize numeric features\n",
    "    scaler = StandardScaler()\n",
    "    X_train[numeric_columns] = scaler.fit_transform(X_train[numeric_columns])\n",
    "    X_test[numeric_columns] = scaler.transform(X_test[numeric_columns])\n",
    "\n",
    "    # Save the scaler for future transformations\n",
    "    joblib.dump(scaler, \"model/scaler.pkl\")\n",
    "    print(\"Scaler saved successfully to 'model/scaler.pkl'.\")\n",
    "\n",
    "    # Train and evaluate models (assume you have a `train_and_evaluate_models` function)\n",
    "    results = train_and_evaluate_models(X_train, X_test, y_train, y_test)\n",
    "\n",
    "    # Determine the best model\n",
    "    best_model_name, best_accuracy = get_best_model(results)\n",
    "    print(f\"\\nBest Model: {best_model_name} with Accuracy: {best_accuracy:.4f}\")\n",
    "\n",
    "    # Save the best model and its components\n",
    "    best_model = results[best_model_name]['model']\n",
    "    save_model_components(best_model, scaler, label_encoders, categorical_columns, best_model_name)\n",
    "    print(f\"Model and components saved successfully. Best model: {best_model_name}\")\n",
    "\n"
   ]
  },
  {
   "cell_type": "code",
   "execution_count": 22,
   "metadata": {},
   "outputs": [
    {
     "name": "stdout",
     "output_type": "stream",
     "text": [
      "Label encoders saved successfully to 'model/label_encoders.pkl'.\n",
      "Scaler saved successfully to 'model/scaler.pkl'.\n"
     ]
    },
    {
     "data": {
      "image/png": "[encoded data removed]",
      "text/plain": [
       "<Figure size 800x600 with 2 Axes>"
      ]
     },
     "metadata": {},
     "output_type": "display_data"
    },
    {
     "name": "stdout",
     "output_type": "stream",
     "text": [
      "\n",
      "Classification Report for Logistic Regression:\n",
      "              precision    recall  f1-score   support\n",
      "\n",
      "         0.0       0.85      0.91      0.88       885\n",
      "         1.0       0.83      0.74      0.79       537\n",
      "\n",
      "    accuracy                           0.85      1422\n",
      "   macro avg       0.84      0.83      0.83      1422\n",
      "weighted avg       0.85      0.85      0.84      1422\n",
      "\n"
     ]
    },
    {
     "data": {
      "image/png": "[encoded data removed]",
      "text/plain": [
       "<Figure size 800x600 with 2 Axes>"
      ]
     },
     "metadata": {},
     "output_type": "display_data"
    },
    {
     "name": "stdout",
     "output_type": "stream",
     "text": [
      "\n",
      "Classification Report for Decision Tree:\n",
      "              precision    recall  f1-score   support\n",
      "\n",
      "         0.0       1.00      0.93      0.96       885\n",
      "         1.0       0.89      1.00      0.94       537\n",
      "\n",
      "    accuracy                           0.95      1422\n",
      "   macro avg       0.95      0.96      0.95      1422\n",
      "weighted avg       0.96      0.95      0.96      1422\n",
      "\n"
     ]
    },
    {
     "data": {
      "image/png": "[encoded data removed]",
      "text/plain": [
       "<Figure size 800x600 with 2 Axes>"
      ]
     },
     "metadata": {},
     "output_type": "display_data"
    },
    {
     "name": "stdout",
     "output_type": "stream",
     "text": [
      "\n",
      "Classification Report for Random Forest:\n",
      "              precision    recall  f1-score   support\n",
      "\n",
      "         0.0       1.00      0.97      0.98       885\n",
      "         1.0       0.95      0.99      0.97       537\n",
      "\n",
      "    accuracy                           0.98      1422\n",
      "   macro avg       0.97      0.98      0.98      1422\n",
      "weighted avg       0.98      0.98      0.98      1422\n",
      "\n"
     ]
    },
    {
     "data": {
      "image/png": "[encoded data removed]",
      "text/plain": [
       "<Figure size 800x600 with 2 Axes>"
      ]
     },
     "metadata": {},
     "output_type": "display_data"
    },
    {
     "name": "stdout",
     "output_type": "stream",
     "text": [
      "\n",
      "Classification Report for SVM:\n",
      "              precision    recall  f1-score   support\n",
      "\n",
      "         0.0       0.84      0.94      0.89       885\n",
      "         1.0       0.87      0.71      0.78       537\n",
      "\n",
      "    accuracy                           0.85      1422\n",
      "   macro avg       0.86      0.82      0.83      1422\n",
      "weighted avg       0.85      0.85      0.85      1422\n",
      "\n",
      "\n",
      "Best Model: Random Forest with Accuracy: 0.9768\n",
      "model metadata saved successfully. Best model: Random Forest\n",
      "Model and components saved successfully. Best model: Random Forest\n"
     ]
    }
   ],
   "source": [
    "process(df)"
   ]
  },
  {
   "cell_type": "code",
   "execution_count": 23,
   "metadata": {},
   "outputs": [
    {
     "data": {
      "text/plain": [
       "'import pandas as pd\\nimport joblib\\n\\n# Charger le modèle et les colonnes d\\'entraînement\\nbest_model = joblib.load(\"model/best_model.pkl\")\\ntrained_columns = joblib.load(\"model/feature_order.pkl\")\\nlabel_encoders = joblib.load(\"model/label_encoders.pkl\")\\n\\n# Charger les données de test\\ninput_file = \"./cleaned_test_dataset.csv\"\\ndata = pd.read_csv(input_file)\\n\\n# Nettoyer les noms de colonnes\\ndata.columns = data.columns.str.strip()\\n\\n# Appliquer les encodages aux colonnes catégoriques\\ncategorical_columns = [\\'6th Stage\\', \\'N Stage\\', \\'T Stage\\', \\'Grade\\']\\nfor col in categorical_columns:\\n    if col in data.columns:\\n        data[col] = label_encoders[col].transform(data[col])\\n\\n# Convertir les colonnes numériques\\nnumeric_columns = [\\'Age\\', \\'Tumor Size\\', \\'Regional Node Examined\\', \\'Reginol Node Positive\\', \\'Survival Months\\']\\nfor col in numeric_columns:\\n    data[col] = pd.to_numeric(data[col], errors=\\'coerce\\')\\n\\n# Ajouter les colonnes manquantes avec des valeurs par défaut\\nmissing_columns = [col for col in trained_columns if col not in data.columns]\\nfor col in missing_columns:\\n    data[col] = 0\\n\\n# Réorganiser les colonnes dans l\\'ordre attendu par le modèle\\ndata = data[trained_columns]\\n\\n# Vérifier que les dimensions correspondent\\nif data.shape[1] != len(trained_columns):\\n    raise ValueError(f\"Le nombre de colonnes ({data.shape[1]}) ne correspond pas au nombre attendu ({len(trained_columns)}).\")\\n\\n# Faire les prédictions\\npredictions = best_model.predict(data)\\nprediction_proba = best_model.predict_proba(data)\\n\\n# Ajouter les prédictions aux données\\ndata[\\'Prediction\\'] = predictions\\ndata[\\'Probability\\'] = prediction_proba[:, 1]\\n\\n# Sauvegarder les résultats\\noutput_file = \"predictions_output.csv\"\\ndata.to_csv(output_file, index=False)\\nprint(f\"Prédictions sauvegardées dans : {output_file}\")\\n'"
      ]
     },
     "execution_count": 23,
     "metadata": {},
     "output_type": "execute_result"
    }
   ],
   "source": [
    "'''import pandas as pd\n",
    "import joblib\n",
    "\n",
    "# Charger le modèle et les colonnes d'entraînement\n",
    "best_model = joblib.load(\"model/best_model.pkl\")\n",
    "trained_columns = joblib.load(\"model/feature_order.pkl\")\n",
    "label_encoders = joblib.load(\"model/label_encoders.pkl\")\n",
    "\n",
    "# Charger les données de test\n",
    "input_file = \"./cleaned_test_dataset.csv\"\n",
    "data = pd.read_csv(input_file)\n",
    "\n",
    "# Nettoyer les noms de colonnes\n",
    "data.columns = data.columns.str.strip()\n",
    "\n",
    "# Appliquer les encodages aux colonnes catégoriques\n",
    "categorical_columns = ['6th Stage', 'N Stage', 'T Stage', 'Grade']\n",
    "for col in categorical_columns:\n",
    "    if col in data.columns:\n",
    "        data[col] = label_encoders[col].transform(data[col])\n",
    "\n",
    "# Convertir les colonnes numériques\n",
    "numeric_columns = ['Age', 'Tumor Size', 'Regional Node Examined', 'Reginol Node Positive', 'Survival Months']\n",
    "for col in numeric_columns:\n",
    "    data[col] = pd.to_numeric(data[col], errors='coerce')\n",
    "\n",
    "# Ajouter les colonnes manquantes avec des valeurs par défaut\n",
    "missing_columns = [col for col in trained_columns if col not in data.columns]\n",
    "for col in missing_columns:\n",
    "    data[col] = 0\n",
    "\n",
    "# Réorganiser les colonnes dans l'ordre attendu par le modèle\n",
    "data = data[trained_columns]\n",
    "\n",
    "# Vérifier que les dimensions correspondent\n",
    "if data.shape[1] != len(trained_columns):\n",
    "    raise ValueError(f\"Le nombre de colonnes ({data.shape[1]}) ne correspond pas au nombre attendu ({len(trained_columns)}).\")\n",
    "\n",
    "# Faire les prédictions\n",
    "predictions = best_model.predict(data)\n",
    "prediction_proba = best_model.predict_proba(data)\n",
    "\n",
    "# Ajouter les prédictions aux données\n",
    "data['Prediction'] = predictions\n",
    "data['Probability'] = prediction_proba[:, 1]\n",
    "\n",
    "# Sauvegarder les résultats\n",
    "output_file = \"predictions_output.csv\"\n",
    "data.to_csv(output_file, index=False)\n",
    "print(f\"Prédictions sauvegardées dans : {output_file}\")\n",
    "'''"
   ]
  },
  {
   "cell_type": "code",
   "execution_count": 24,
   "metadata": {},
   "outputs": [
    {
     "data": {
      "text/plain": [
       "'# Load and inspect feature order\\nfeature_order = joblib.load(\"model/feature_order.pkl\")\\nprint(\"Feature Order:\", feature_order)\\n\\n# Load and inspect label encoders\\nlabel_encoders = joblib.load(\"model/label_encoders.pkl\")\\nprint(\"Label Encoders:\", label_encoders)\\n\\n# Load and inspect scaler\\nscaler = joblib.load(\"model/scaler.pkl\")\\nprint(\"Scaler:\", scaler)\\n\\n# Load and inspect the model\\nbest_model = joblib.load(\"model/best_model.pkl\")\\nprint(\"Loaded Model:\", best_model)'"
      ]
     },
     "execution_count": 24,
     "metadata": {},
     "output_type": "execute_result"
    }
   ],
   "source": [
    "'''# Load and inspect feature order\n",
    "feature_order = joblib.load(\"model/feature_order.pkl\")\n",
    "print(\"Feature Order:\", feature_order)\n",
    "\n",
    "# Load and inspect label encoders\n",
    "label_encoders = joblib.load(\"model/label_encoders.pkl\")\n",
    "print(\"Label Encoders:\", label_encoders)\n",
    "\n",
    "# Load and inspect scaler\n",
    "scaler = joblib.load(\"model/scaler.pkl\")\n",
    "print(\"Scaler:\", scaler)\n",
    "\n",
    "# Load and inspect the model\n",
    "best_model = joblib.load(\"model/best_model.pkl\")\n",
    "print(\"Loaded Model:\", best_model)'''\n"
   ]
  }
 ],
 "metadata": {
  "kernelspec": {
   "display_name": "Python 3",
   "language": "python",
   "name": "python3"
  },
  "language_info": {
   "codemirror_mode": {
    "name": "ipython",
    "version": 3
   },
   "file_extension": ".py",
   "mimetype": "text/x-python",
   "name": "python",
   "nbconvert_exporter": "python",
   "pygments_lexer": "ipython3",
   "version": "3.13.1"
  }
 },
 "nbformat": 4,
 "nbformat_minor": 2
}
